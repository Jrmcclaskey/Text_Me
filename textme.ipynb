{
 "cells": [
  {
   "cell_type": "code",
   "execution_count": 6,
   "id": "f030fb2f",
   "metadata": {},
   "outputs": [],
   "source": [
    "import os.path\n",
    "import base64\n",
    "from googleapiclient.discovery import build\n",
    "from googleapiclient.errors import HttpError\n",
    "from google_auth_oauthlib.flow import InstalledAppFlow\n",
    "from google.auth.transport.requests import Request\n",
    "from google.oauth2.credentials import Credentials"
   ]
  },
  {
   "cell_type": "code",
   "execution_count": 7,
   "id": "6f9c4a1f",
   "metadata": {},
   "outputs": [],
   "source": [
    "# If modifying these scopes, delete the file token.json.\n",
    "SCOPES = ['https://www.googleapis.com/auth/gmail.send']"
   ]
  },
  {
   "cell_type": "code",
   "execution_count": 8,
   "id": "01f825ef",
   "metadata": {},
   "outputs": [],
   "source": [
    "def create_message(sender, to, subject, message_text):\n",
    "    message = f\"From: {sender}\\nTo: {to}\\nSubject: {subject}\\n\\n{message_text}\"\n",
    "    raw_message = base64.urlsafe_b64encode(message.encode(\"utf-8\")).decode(\"utf-8\")\n",
    "    return {\"raw\": raw_message}"
   ]
  },
  {
   "cell_type": "code",
   "execution_count": 9,
   "id": "a65797a2",
   "metadata": {},
   "outputs": [],
   "source": [
    "def send_message(service, user_id, message):\n",
    "    try:\n",
    "        message = (service.users().messages().send(userId=user_id, body=message).execute())\n",
    "        print(\"Message sent!\")\n",
    "    except HttpError as error:\n",
    "        print(f\"An error occurred: {error}\")"
   ]
  },
  {
   "cell_type": "code",
   "execution_count": 10,
   "id": "8395accd",
   "metadata": {},
   "outputs": [],
   "source": [
    "def textme():\n",
    "    creds = None\n",
    "    token_file = \"token.json\"\n",
    "    credentials_file = \"C:/Users/jrmcc/Projects/Miscellaneous/textme/credentials.json\"\n",
    "    \n",
    "    if os.path.exists(token_file):\n",
    "        creds = Credentials.from_authorized_user_file(token_file, SCOPES)\n",
    "\n",
    "    if not creds or not creds.valid:\n",
    "        if creds and creds.expired and creds.refresh_token:\n",
    "            creds.refresh(Request())\n",
    "        else:\n",
    "            flow = InstalledAppFlow.from_client_secrets_file(credentials_file, SCOPES)\n",
    "            creds = flow.run_local_server(port=0)\n",
    "        # Save credentials to token.json\n",
    "        with open(token_file, \"w\") as token:\n",
    "            token.write(creds.to_json())\n",
    "\n",
    "    service = build(\"gmail\", \"v1\", credentials=creds)\n",
    "\n",
    "    sender_email = input('Enter your email:')\n",
    "    recipient_email = input(\"Enter the number you want to send a message to (no spaces or hyphens): \")+ \"@txt.att.net\"\n",
    "    message_subject = \"Progress Alert\"\n",
    "    message_text = \"hello there\"\n",
    "\n",
    "    message = create_message(sender_email, recipient_email, message_subject, message_text)\n",
    "    send_message(service, \"me\", message)"
   ]
  },
  {
   "cell_type": "code",
   "execution_count": 12,
   "id": "28732dae",
   "metadata": {},
   "outputs": [
    {
     "name": "stdout",
     "output_type": "stream",
     "text": [
      "Enter your email:jrmcclaskey@gmail.com\n",
      "Enter the number you want to send a message to (no spaces or hyphens): 7039456586\n",
      "Message sent!\n"
     ]
    }
   ],
   "source": [
    "if __name__ == \"__main__\":\n",
    "    textme()"
   ]
  },
  {
   "cell_type": "code",
   "execution_count": null,
   "id": "a8aac855",
   "metadata": {},
   "outputs": [],
   "source": []
  }
 ],
 "metadata": {
  "kernelspec": {
   "display_name": "Python 3 (ipykernel)",
   "language": "python",
   "name": "python3"
  },
  "language_info": {
   "codemirror_mode": {
    "name": "ipython",
    "version": 3
   },
   "file_extension": ".py",
   "mimetype": "text/x-python",
   "name": "python",
   "nbconvert_exporter": "python",
   "pygments_lexer": "ipython3",
   "version": "3.11.3"
  }
 },
 "nbformat": 4,
 "nbformat_minor": 5
}
